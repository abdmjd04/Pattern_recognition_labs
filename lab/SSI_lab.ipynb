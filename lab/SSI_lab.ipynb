{
 "cells": [
  {
   "cell_type": "markdown",
   "metadata": {},
   "source": [
    "# SSI Pattern Recognition Practical"
   ]
  },
  {
   "cell_type": "markdown",
   "metadata": {},
   "source": [
    "# Linear regression with one variable"
   ]
  },
  {
   "cell_type": "code",
   "execution_count": 84,
   "metadata": {},
   "outputs": [],
   "source": [
    "#To ignore warnings \n",
    "import warnings\n",
    "warnings.filterwarnings('ignore')"
   ]
  },
  {
   "cell_type": "code",
   "execution_count": 85,
   "metadata": {},
   "outputs": [
    {
     "data": {
      "text/html": [
       "<div>\n",
       "<style scoped>\n",
       "    .dataframe tbody tr th:only-of-type {\n",
       "        vertical-align: middle;\n",
       "    }\n",
       "\n",
       "    .dataframe tbody tr th {\n",
       "        vertical-align: top;\n",
       "    }\n",
       "\n",
       "    .dataframe thead th {\n",
       "        text-align: right;\n",
       "    }\n",
       "</style>\n",
       "<table border=\"1\" class=\"dataframe\">\n",
       "  <thead>\n",
       "    <tr style=\"text-align: right;\">\n",
       "      <th></th>\n",
       "      <th>Population</th>\n",
       "      <th>Profit</th>\n",
       "      <th>Bias</th>\n",
       "    </tr>\n",
       "  </thead>\n",
       "  <tbody>\n",
       "    <tr>\n",
       "      <th>0</th>\n",
       "      <td>6.1101</td>\n",
       "      <td>17.5920</td>\n",
       "      <td>1.0</td>\n",
       "    </tr>\n",
       "    <tr>\n",
       "      <th>1</th>\n",
       "      <td>5.5277</td>\n",
       "      <td>9.1302</td>\n",
       "      <td>1.0</td>\n",
       "    </tr>\n",
       "    <tr>\n",
       "      <th>2</th>\n",
       "      <td>8.5186</td>\n",
       "      <td>13.6620</td>\n",
       "      <td>1.0</td>\n",
       "    </tr>\n",
       "    <tr>\n",
       "      <th>3</th>\n",
       "      <td>7.0032</td>\n",
       "      <td>11.8540</td>\n",
       "      <td>1.0</td>\n",
       "    </tr>\n",
       "    <tr>\n",
       "      <th>4</th>\n",
       "      <td>5.8598</td>\n",
       "      <td>6.8233</td>\n",
       "      <td>1.0</td>\n",
       "    </tr>\n",
       "  </tbody>\n",
       "</table>\n",
       "</div>"
      ],
      "text/plain": [
       "   Population   Profit  Bias\n",
       "0      6.1101  17.5920   1.0\n",
       "1      5.5277   9.1302   1.0\n",
       "2      8.5186  13.6620   1.0\n",
       "3      7.0032  11.8540   1.0\n",
       "4      5.8598   6.8233   1.0"
      ]
     },
     "execution_count": 85,
     "metadata": {},
     "output_type": "execute_result"
    }
   ],
   "source": [
    "#import necessary libraries\n",
    "import numpy as np\n",
    "import pandas as pd\n",
    "import matplotlib.pyplot as plt\n",
    "%matplotlib inline\n",
    "\n",
    "#Read our data as csv \n",
    "data = pd.read_csv('lab1data1.txt', names= ['Population','Profit'])\n",
    "X = data.Population\n",
    "Y = data.Profit\n",
    "# inserting Bias column just for convenience\n",
    "data['Bias'] = np.ones(97).reshape(97,1)\n",
    "data.head()"
   ]
  },
  {
   "cell_type": "code",
   "execution_count": 86,
   "metadata": {},
   "outputs": [
    {
     "data": {
      "text/plain": [
       "<matplotlib.collections.PathCollection at 0x15fabafcf60>"
      ]
     },
     "execution_count": 86,
     "metadata": {},
     "output_type": "execute_result"
    },
    {
     "data": {
      "image/png": "[encoded data removed]",
      "text/plain": [
       "<Figure size 432x288 with 1 Axes>"
      ]
     },
     "metadata": {
      "needs_background": "light"
     },
     "output_type": "display_data"
    }
   ],
   "source": [
    "#plot the data\n",
    "plt.xlabel('Population in $10,000s')\n",
    "plt.ylabel('Profit in $10,000s')\n",
    "plt.scatter(X,Y, marker='.', color='Blue')"
   ]
  },
  {
   "cell_type": "code",
   "execution_count": 87,
   "metadata": {},
   "outputs": [],
   "source": [
    "# Population and ones as matrix\n",
    "phi = data.iloc[ :,[-1,0]].as_matrix()\n",
    "#Define linear regresion function\n",
    "def Linear_Regression(X,Y):\n",
    "    global weight\n",
    "    #invere of (X.XT)\n",
    "    temp = np.linalg.inv(np.dot(phi.T,phi))\n",
    "    #weight = inverse(XX.T)*X.T*y_value\n",
    "    weight = temp.dot(phi.T).dot(Y)\n",
    "    return weight"
   ]
  },
  {
   "cell_type": "code",
   "execution_count": 88,
   "metadata": {},
   "outputs": [
    {
     "name": "stdout",
     "output_type": "stream",
     "text": [
      "The Parameters of data1 are:\n",
      "[-3.89578088  1.19303364]\n"
     ]
    }
   ],
   "source": [
    "Linear_Regression(X,Y)\n",
    "print('The Parameters of data1 are:')\n",
    "print(weight)"
   ]
  },
  {
   "cell_type": "code",
   "execution_count": 89,
   "metadata": {},
   "outputs": [],
   "source": [
    "w0 =weight[0]\n",
    "w1 = weight[1]"
   ]
  },
  {
   "cell_type": "code",
   "execution_count": 90,
   "metadata": {},
   "outputs": [
    {
     "name": "stdout",
     "output_type": "stream",
     "text": [
      "\u001b[91mPredictions:\n",
      "\u001b[0mFor 35,000 : 2798.3688\n",
      "For 70,000 : 44554.5463\n"
     ]
    }
   ],
   "source": [
    "#predictions of profits in cities of 35,000 and 70,000 people\n",
    "profit_35k = np.sum(w0 + (w1*3.5))\n",
    "#since profit is in $10,000\n",
    "profit_35k *=  10000 \n",
    "\n",
    "\n",
    "profit_70k = np.sum(w0 + (w1*7.0))\n",
    "#since profit is in $10,000\n",
    "profit_70k *= 10000 \n",
    "print('\\033[91m' + 'Predictions:')\n",
    "print('\\033[0m' +'For 35,000 : {}'.format(round(profit_35k,4)))\n",
    "print('For 70,000 : {}'.format(round(profit_70k,4)))"
   ]
  },
  {
   "cell_type": "markdown",
   "metadata": {},
   "source": [
    "# Linear regression with multiple variables"
   ]
  },
  {
   "cell_type": "code",
   "execution_count": 91,
   "metadata": {},
   "outputs": [
    {
     "data": {
      "text/html": [
       "<div>\n",
       "<style scoped>\n",
       "    .dataframe tbody tr th:only-of-type {\n",
       "        vertical-align: middle;\n",
       "    }\n",
       "\n",
       "    .dataframe tbody tr th {\n",
       "        vertical-align: top;\n",
       "    }\n",
       "\n",
       "    .dataframe thead th {\n",
       "        text-align: right;\n",
       "    }\n",
       "</style>\n",
       "<table border=\"1\" class=\"dataframe\">\n",
       "  <thead>\n",
       "    <tr style=\"text-align: right;\">\n",
       "      <th></th>\n",
       "      <th>Size</th>\n",
       "      <th>no_bedrooms</th>\n",
       "      <th>Price</th>\n",
       "      <th>Bias</th>\n",
       "    </tr>\n",
       "  </thead>\n",
       "  <tbody>\n",
       "    <tr>\n",
       "      <th>0</th>\n",
       "      <td>2104</td>\n",
       "      <td>3</td>\n",
       "      <td>399900</td>\n",
       "      <td>1.0</td>\n",
       "    </tr>\n",
       "    <tr>\n",
       "      <th>1</th>\n",
       "      <td>1600</td>\n",
       "      <td>3</td>\n",
       "      <td>329900</td>\n",
       "      <td>1.0</td>\n",
       "    </tr>\n",
       "    <tr>\n",
       "      <th>2</th>\n",
       "      <td>2400</td>\n",
       "      <td>3</td>\n",
       "      <td>369000</td>\n",
       "      <td>1.0</td>\n",
       "    </tr>\n",
       "    <tr>\n",
       "      <th>3</th>\n",
       "      <td>1416</td>\n",
       "      <td>2</td>\n",
       "      <td>232000</td>\n",
       "      <td>1.0</td>\n",
       "    </tr>\n",
       "    <tr>\n",
       "      <th>4</th>\n",
       "      <td>3000</td>\n",
       "      <td>4</td>\n",
       "      <td>539900</td>\n",
       "      <td>1.0</td>\n",
       "    </tr>\n",
       "  </tbody>\n",
       "</table>\n",
       "</div>"
      ],
      "text/plain": [
       "   Size  no_bedrooms   Price  Bias\n",
       "0  2104            3  399900   1.0\n",
       "1  1600            3  329900   1.0\n",
       "2  2400            3  369000   1.0\n",
       "3  1416            2  232000   1.0\n",
       "4  3000            4  539900   1.0"
      ]
     },
     "execution_count": 91,
     "metadata": {},
     "output_type": "execute_result"
    }
   ],
   "source": [
    "#Read data as csv using pandas\n",
    "data = pd.read_csv('lab1data2.txt', names=['Size','no_bedrooms','Price'], delimiter = ',')\n",
    "#\n",
    "data['Bias'] = np.ones(len(data)).reshape(len(data),1)\n",
    "data.head()"
   ]
  },
  {
   "cell_type": "code",
   "execution_count": 92,
   "metadata": {},
   "outputs": [],
   "source": [
    "phi = data.iloc[ :,[-1,0,1]].as_matrix()\n",
    "X = data.iloc[ :,[0,1]]\n",
    "Y = data.iloc[ :,[2]]"
   ]
  },
  {
   "cell_type": "code",
   "execution_count": 93,
   "metadata": {},
   "outputs": [
    {
     "name": "stdout",
     "output_type": "stream",
     "text": [
      "The parameters of data2 before normalization are:\n",
      "[[89597.9095428 ]\n",
      " [  139.21067402]\n",
      " [-8738.01911233]]\n"
     ]
    }
   ],
   "source": [
    "Linear_Regression(X,Y)\n",
    "print('The parameters of data2 before normalization are:')\n",
    "print(weight)"
   ]
  },
  {
   "cell_type": "code",
   "execution_count": 94,
   "metadata": {},
   "outputs": [],
   "source": [
    "def normalize(n):\n",
    "    normalized_df=(X-X.mean())/X.std()\n",
    "    return normalized_df"
   ]
  },
  {
   "cell_type": "code",
   "execution_count": 95,
   "metadata": {},
   "outputs": [],
   "source": [
    "norm_X = normalize(X)"
   ]
  },
  {
   "cell_type": "code",
   "execution_count": 96,
   "metadata": {},
   "outputs": [
    {
     "data": {
      "text/html": [
       "<div>\n",
       "<style scoped>\n",
       "    .dataframe tbody tr th:only-of-type {\n",
       "        vertical-align: middle;\n",
       "    }\n",
       "\n",
       "    .dataframe tbody tr th {\n",
       "        vertical-align: top;\n",
       "    }\n",
       "\n",
       "    .dataframe thead th {\n",
       "        text-align: right;\n",
       "    }\n",
       "</style>\n",
       "<table border=\"1\" class=\"dataframe\">\n",
       "  <thead>\n",
       "    <tr style=\"text-align: right;\">\n",
       "      <th></th>\n",
       "      <th>Size</th>\n",
       "      <th>no_bedrooms</th>\n",
       "      <th>Price</th>\n",
       "      <th>Bias</th>\n",
       "    </tr>\n",
       "  </thead>\n",
       "  <tbody>\n",
       "    <tr>\n",
       "      <th>0</th>\n",
       "      <td>0.130010</td>\n",
       "      <td>-0.223675</td>\n",
       "      <td>399900</td>\n",
       "      <td>1.0</td>\n",
       "    </tr>\n",
       "    <tr>\n",
       "      <th>1</th>\n",
       "      <td>-0.504190</td>\n",
       "      <td>-0.223675</td>\n",
       "      <td>329900</td>\n",
       "      <td>1.0</td>\n",
       "    </tr>\n",
       "    <tr>\n",
       "      <th>2</th>\n",
       "      <td>0.502476</td>\n",
       "      <td>-0.223675</td>\n",
       "      <td>369000</td>\n",
       "      <td>1.0</td>\n",
       "    </tr>\n",
       "    <tr>\n",
       "      <th>3</th>\n",
       "      <td>-0.735723</td>\n",
       "      <td>-1.537767</td>\n",
       "      <td>232000</td>\n",
       "      <td>1.0</td>\n",
       "    </tr>\n",
       "    <tr>\n",
       "      <th>4</th>\n",
       "      <td>1.257476</td>\n",
       "      <td>1.090417</td>\n",
       "      <td>539900</td>\n",
       "      <td>1.0</td>\n",
       "    </tr>\n",
       "  </tbody>\n",
       "</table>\n",
       "</div>"
      ],
      "text/plain": [
       "       Size  no_bedrooms   Price  Bias\n",
       "0  0.130010    -0.223675  399900   1.0\n",
       "1 -0.504190    -0.223675  329900   1.0\n",
       "2  0.502476    -0.223675  369000   1.0\n",
       "3 -0.735723    -1.537767  232000   1.0\n",
       "4  1.257476     1.090417  539900   1.0"
      ]
     },
     "execution_count": 96,
     "metadata": {},
     "output_type": "execute_result"
    }
   ],
   "source": [
    "#normalizing the values\n",
    "data['Size'] = norm_X['Size']\n",
    "data['no_bedrooms'] = norm_X['no_bedrooms']\n",
    "data.head()"
   ]
  },
  {
   "cell_type": "markdown",
   "metadata": {},
   "source": [
    "Let's plot our nomalized features in three dimensional since its good to visualize and observe how our features are correlated "
   ]
  },
  {
   "cell_type": "code",
   "execution_count": 97,
   "metadata": {},
   "outputs": [
    {
     "data": {
      "text/plain": [
       "<mpl_toolkits.mplot3d.art3d.Path3DCollection at 0x15facb190b8>"
      ]
     },
     "execution_count": 97,
     "metadata": {},
     "output_type": "execute_result"
    },
    {
     "data": {
      "image/png": "[encoded data removed]",
      "text/plain": [
       "<Figure size 432x288 with 1 Axes>"
      ]
     },
     "metadata": {
      "needs_background": "light"
     },
     "output_type": "display_data"
    }
   ],
   "source": [
    "from mpl_toolkits import mplot3d\n",
    "\n",
    "fig = plt.figure()\n",
    "ax = plt.axes(projection='3d')\n",
    "plt.xlabel('Size of room')\n",
    "plt.ylabel('#bedrooms')\n",
    "ax.scatter(data.Size,data.no_bedrooms,data.Price)"
   ]
  },
  {
   "cell_type": "code",
   "execution_count": 98,
   "metadata": {},
   "outputs": [],
   "source": [
    "#input matrix\n",
    "phi = data.iloc[ :,[-1,0,1]]"
   ]
  },
  {
   "cell_type": "code",
   "execution_count": 99,
   "metadata": {},
   "outputs": [
    {
     "name": "stdout",
     "output_type": "stream",
     "text": [
      "Parameters after normalization are:\n",
      "[[340412.65957447]\n",
      " [110631.05027885]\n",
      " [ -6649.47427082]]\n"
     ]
    }
   ],
   "source": [
    "#linear regression after normalization\n",
    "Linear_Regression(norm_X,Y)\n",
    "print('Parameters after normalization are:')\n",
    "print(weight)"
   ]
  },
  {
   "cell_type": "code",
   "execution_count": 100,
   "metadata": {},
   "outputs": [],
   "source": [
    "w0 = weight[0]\n",
    "w1 = weight[1]\n",
    "w2 = weight[2]"
   ]
  },
  {
   "cell_type": "code",
   "execution_count": 101,
   "metadata": {},
   "outputs": [],
   "source": [
    "#mean of X\n",
    "mu =X.mean()\n",
    "#Standard deviation of X\n",
    "sigma =X.std()"
   ]
  },
  {
   "cell_type": "code",
   "execution_count": 102,
   "metadata": {},
   "outputs": [],
   "source": [
    "#Using given parameters\n",
    "x1 = (1650-mu[0])/sigma[0]\n",
    "x2 = (3 - mu[1])/sigma[1]"
   ]
  },
  {
   "cell_type": "code",
   "execution_count": 103,
   "metadata": {},
   "outputs": [
    {
     "name": "stdout",
     "output_type": "stream",
     "text": [
      "Predicted price for give parameters is :[293081.4643349]\n"
     ]
    }
   ],
   "source": [
    "#Predicted price\n",
    "predicted_price = w0 + w1*x1 + w2*x2\n",
    "print('Predicted price for give parameters is :{}'.format(predicted_price))"
   ]
  },
  {
   "cell_type": "markdown",
   "metadata": {},
   "source": [
    "# Gradient Descent"
   ]
  },
  {
   "cell_type": "code",
   "execution_count": 104,
   "metadata": {},
   "outputs": [],
   "source": [
    "X = data.iloc[ :,[-1,0,1]].as_matrix()\n",
    "y = data.iloc[:,2:3].values \n",
    "theta = np.zeros([1,3])\n",
    "\n",
    "#hyper parameters\n",
    "alpha = 0.01\n",
    "iters = 1000"
   ]
  },
  {
   "cell_type": "code",
   "execution_count": 105,
   "metadata": {},
   "outputs": [],
   "source": [
    "#compute loss\n",
    "def compute_loss(X,y,theta):\n",
    "    l = np.power(((X @ theta.T)-y),2)\n",
    "    return np.sum(l)/(2 * len(X))"
   ]
  },
  {
   "cell_type": "code",
   "execution_count": 106,
   "metadata": {},
   "outputs": [
    {
     "name": "stdout",
     "output_type": "stream",
     "text": [
      "Weight matrix:[[340397.96353532 109848.00846026  -5866.45408497]]\n",
      "Final loss:2043544218.7812896\n"
     ]
    }
   ],
   "source": [
    "#gradient descent\n",
    "def gradientDescent(X,y,theta,iters,alpha):\n",
    "    loss = np.zeros(iters)\n",
    "    for i in range(iters):\n",
    "        theta = theta - (alpha/len(X)) * np.sum(X * (X @ theta.T - y), axis=0)\n",
    "        loss[i] = compute_loss(X, y, theta)\n",
    "    \n",
    "    return theta,loss\n",
    "\n",
    "#running the gradient descent and loss function\n",
    "weight,loss = gradientDescent(X,y,theta,iters,alpha)\n",
    "print(\"Weight matrix:{}\".format(weight))\n",
    "\n",
    "Total_loss = compute_loss(X,y,weight)\n",
    "print(\"Final loss:{}\".format(Total_loss))"
   ]
  },
  {
   "cell_type": "code",
   "execution_count": 107,
   "metadata": {},
   "outputs": [],
   "source": [
    "w = weight.reshape(3,1)"
   ]
  },
  {
   "cell_type": "code",
   "execution_count": 108,
   "metadata": {},
   "outputs": [],
   "source": [
    "w0 = w[0]\n",
    "w1 = w[1]\n",
    "w2 = w[2]\n"
   ]
  },
  {
   "cell_type": "code",
   "execution_count": 109,
   "metadata": {},
   "outputs": [
    {
     "name": "stdout",
     "output_type": "stream",
     "text": [
      "Predicted Price for given values :[293237.16147861]\n"
     ]
    }
   ],
   "source": [
    "#Let's check the predicted price\n",
    "pred_price = w0 + w1*x1 + w2*x2\n",
    "print(\"Predicted Price for given values :{}\".format(pred_price))"
   ]
  },
  {
   "cell_type": "markdown",
   "metadata": {},
   "source": [
    "As we can see the Predicted price is so close to the previous predicted price by changing the hyper parameters we can bring it to more closely"
   ]
  },
  {
   "cell_type": "markdown",
   "metadata": {},
   "source": [
    "# Let's do Linear Regression using Scikit learn library"
   ]
  },
  {
   "cell_type": "code",
   "execution_count": 110,
   "metadata": {},
   "outputs": [],
   "source": [
    "from sklearn.linear_model import LinearRegression  "
   ]
  },
  {
   "cell_type": "code",
   "execution_count": 115,
   "metadata": {},
   "outputs": [
    {
     "data": {
      "text/plain": [
       "LinearRegression(copy_X=True, fit_intercept=True, n_jobs=None,\n",
       "         normalize=False)"
      ]
     },
     "execution_count": 115,
     "metadata": {},
     "output_type": "execute_result"
    }
   ],
   "source": [
    "regression = LinearRegression()  \n",
    "regression.fit(X,y)  "
   ]
  },
  {
   "cell_type": "code",
   "execution_count": 116,
   "metadata": {},
   "outputs": [
    {
     "name": "stdout",
     "output_type": "stream",
     "text": [
      "[340412.65957447]\n"
     ]
    }
   ],
   "source": [
    "#Print intercept w0\n",
    "print(regression.intercept_)  "
   ]
  },
  {
   "cell_type": "code",
   "execution_count": 117,
   "metadata": {},
   "outputs": [
    {
     "name": "stdout",
     "output_type": "stream",
     "text": [
      "[[     0.         110631.05027885  -6649.47427082]]\n"
     ]
    }
   ],
   "source": [
    "#Print coefficients w1 and w2\n",
    "print(regression.coef_)  "
   ]
  },
  {
   "cell_type": "code",
   "execution_count": 118,
   "metadata": {},
   "outputs": [
    {
     "name": "stdout",
     "output_type": "stream",
     "text": [
      "Predicted Price for size of 1650 and 3 bedrooms is:[[293081.4643349]]\n"
     ]
    }
   ],
   "source": [
    "#Let's predict using inbuit  predict function\n",
    "#x1 is normalized value for 1650\n",
    "#x2 is for 3\n",
    "print(\"Predicted Price for size of 1650 and 3 bedrooms is:{}\".format(regression.predict(np.array([0,x1,x2]).reshape(1,3))))"
   ]
  }
 ],
 "metadata": {
  "kernelspec": {
   "display_name": "Python 3",
   "language": "python",
   "name": "python3"
  },
  "language_info": {
   "codemirror_mode": {
    "name": "ipython",
    "version": 3
   },
   "file_extension": ".py",
   "mimetype": "text/x-python",
   "name": "python",
   "nbconvert_exporter": "python",
   "pygments_lexer": "ipython3",
   "version": "3.5.6"
  }
 },
 "nbformat": 4,
 "nbformat_minor": 2
}
