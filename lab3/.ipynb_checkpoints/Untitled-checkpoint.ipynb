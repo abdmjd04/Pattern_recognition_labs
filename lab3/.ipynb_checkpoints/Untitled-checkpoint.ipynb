{
 "cells": [
  {
   "cell_type": "code",
   "execution_count": null,
   "metadata": {},
   "outputs": [],
   "source": [
    "import pandas as pd\n",
    "import numpy as np\n",
    "import scipy.io\n",
    "traindata = scipy.io.loadmat('trainingData.mat')\n",
    "testdata = scipy.io.loadmat('testData.mat')\n",
    "\n",
    "X_train = traindata['training']\n",
    "Y_train = traindata['trainingLabels']\n",
    "X_test = testdata['test']\n",
    "Y_test = testdata['testLabels']\n",
    "\n",
    "plt.figure(figsize=(20,4))\n",
    "for index, (image, label) in enumerate(zip(X_train[0:5], X_test[0:5])):\n",
    "    plt.subplot(1, 5, index + 1)\n",
    "    plt.imshow(np.reshape(image, (28,28)), cmap=plt.cm.gray)\n",
    "\n",
    "\n",
    "#from sklearn.linear_model import LogisticRegression\n",
    "# all parameters not specified are set to their defaults\n",
    "#logisticRegr = LogisticRegression()\n",
    "#logisticRegr.fit(X_train, Y_train)\n",
    "#from sklearn.linear_model import LogisticRegression\n",
    "# all parameters not specified are set to their defaults\n",
    "#logisticRegr = LogisticRegression()\n",
    "#logisticRegr.fit(X_train, Y_train)\n",
    "\n",
    "#predictions = logisticRegr.predict(X_test)\n",
    "#score = logisticRegr.score(X_test, Y_test)\n",
    "#print(\"Accuracy obtained: {} Percentage\".format(score*100))\n",
    "\n",
    "#cm = metrics.confusion_matrix(Y_test, predictions)\n",
    "#print(cm)\n",
    "\n",
    "\n",
    "\n",
    "#from sklearn import svm\n",
    "#clf = svm.LinearSVC()\n",
    "#clf.fit(X_train, Y_train)\n",
    "#clf.predict(X_test[0].reshape(1,-1))\n",
    "#clf.predict(X_test[0:10])\n",
    "\n",
    "#predictions = logisticRegr.predict(X_test)\n",
    "#cm = metrics.confusion_matrix(Y_test, predictions)\n",
    "#print(cm)"
   ]
  }
 ],
 "metadata": {
  "kernelspec": {
   "display_name": "Python 3",
   "language": "python",
   "name": "python3"
  },
  "language_info": {
   "codemirror_mode": {
    "name": "ipython",
    "version": 3
   },
   "file_extension": ".py",
   "mimetype": "text/x-python",
   "name": "python",
   "nbconvert_exporter": "python",
   "pygments_lexer": "ipython3",
   "version": "3.5.6"
  }
 },
 "nbformat": 4,
 "nbformat_minor": 2
}
